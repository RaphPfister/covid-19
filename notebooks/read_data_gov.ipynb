{
 "cells": [
  {
   "cell_type": "code",
   "execution_count": 38,
   "metadata": {},
   "outputs": [],
   "source": [
    "import pandas as pd"
   ]
  },
  {
   "cell_type": "markdown",
   "metadata": {},
   "source": [
    "# DATA SOURCE\n",
    "https://www.data.gouv.fr/fr/datasets/donnees-relatives-a-lepidemie-du-covid-19/"
   ]
  },
  {
   "cell_type": "code",
   "execution_count": 39,
   "metadata": {},
   "outputs": [],
   "source": [
    "url = \"https://www.data.gouv.fr/fr/datasets/r/b94ba7af-c0d6-4055-a883-61160e412115\"\n",
    "#https://www.data.gouv.fr/fr/datasets/r/b94ba7af-c0d6-4055-a883-61160e412115"
   ]
  },
  {
   "cell_type": "code",
   "execution_count": 40,
   "metadata": {},
   "outputs": [
    {
     "data": {
      "text/html": [
       "<div data-udata-dataset=\"5e74ecf52eb7514f2d3b8845\"></div>\n",
       "<script data-udata=\"https://www.data.gouv.fr/\" src=\"https://static.data.gouv.fr/static/oembed.js\" async defer></script>\n"
      ],
      "text/plain": [
       "<IPython.core.display.HTML object>"
      ]
     },
     "metadata": {},
     "output_type": "display_data"
    }
   ],
   "source": [
    "%%html\n",
    "<div data-udata-dataset=\"5e74ecf52eb7514f2d3b8845\"></div>\n",
    "<script data-udata=\"https://www.data.gouv.fr/\" src=\"https://static.data.gouv.fr/static/oembed.js\" async defer></script>"
   ]
  },
  {
   "cell_type": "code",
   "execution_count": 41,
   "metadata": {},
   "outputs": [
    {
     "name": "stderr",
     "output_type": "stream",
     "text": [
      "--2020-03-27 08:29:39--  https://www.data.gouv.fr/fr/datasets/r/b94ba7af-c0d6-4055-a883-61160e412115\n",
      "Resolving www.data.gouv.fr (www.data.gouv.fr)... 37.59.183.93\n",
      "Connecting to www.data.gouv.fr (www.data.gouv.fr)|37.59.183.93|:443... connected.\n",
      "HTTP request sent, awaiting response... 302 FOUND\n",
      "Location: https://static.data.gouv.fr/resources/donnees-relatives-a-lepidemie-de-covid-19/20200326-185657/donnees-hospitalieres-covid19-2020-03-26-18h56.csv [following]\n",
      "--2020-03-27 08:29:39--  https://static.data.gouv.fr/resources/donnees-relatives-a-lepidemie-de-covid-19/20200326-185657/donnees-hospitalieres-covid19-2020-03-26-18h56.csv\n",
      "Resolving static.data.gouv.fr (static.data.gouv.fr)... 37.59.183.93\n",
      "Connecting to static.data.gouv.fr (static.data.gouv.fr)|37.59.183.93|:443... connected.\n",
      "HTTP request sent, awaiting response... 200 OK\n",
      "Length: 84129 (82K) [text/csv]\n",
      "Saving to: â€˜b94ba7af-c0d6-4055-a883-61160e412115â€™\n",
      "\n",
      "     0K .......... .......... .......... .......... .......... 60% 3.11M 0s\n",
      "    50K .......... .......... .......... ..                   100% 94.4M=0.02s\n",
      "\n",
      "2020-03-27 08:29:39 (5.01 MB/s) - â€˜b94ba7af-c0d6-4055-a883-61160e412115â€™ saved [84129/84129]\n",
      "\n"
     ]
    }
   ],
   "source": [
    "%%bash\n",
    "rm -f b94ba7af-c0d6-4055-a883-61160e412115*\n",
    "wget https://www.data.gouv.fr/fr/datasets/r/b94ba7af-c0d6-4055-a883-61160e412115"
   ]
  },
  {
   "cell_type": "code",
   "execution_count": 42,
   "metadata": {},
   "outputs": [
    {
     "name": "stdout",
     "output_type": "stream",
     "text": [
      "\"972\";2;\"2020-03-26\";11;4;7;1\n",
      "\"973\";0;\"2020-03-26\";0;0;0;0\n",
      "\"973\";1;\"2020-03-26\";0;0;0;0\n",
      "\"973\";2;\"2020-03-26\";0;0;0;0\n",
      "\"974\";0;\"2020-03-26\";3;3;0;0\n",
      "\"974\";1;\"2020-03-26\";3;3;0;0\n",
      "\"974\";2;\"2020-03-26\";0;0;0;0\n",
      "\"976\";0;\"2020-03-26\";0;0;0;0\n",
      "\"976\";1;\"2020-03-26\";0;0;0;0\n",
      "\"976\";2;\"2020-03-26\";0;0;0;0\n"
     ]
    }
   ],
   "source": [
    "%%bash\n",
    "tail b94ba7af-c0d6-4055-a883-61160e412115"
   ]
  },
  {
   "cell_type": "code",
   "execution_count": 43,
   "metadata": {},
   "outputs": [],
   "source": [
    "df = pd.read_csv(\"b94ba7af-c0d6-4055-a883-61160e412115\", sep=\";\")"
   ]
  },
  {
   "cell_type": "code",
   "execution_count": 44,
   "metadata": {},
   "outputs": [
    {
     "data": {
      "text/plain": [
       "array(['2020-03-18', '2020-03-19', '2020-03-20', '2020-03-21',\n",
       "       '2020-03-22', '2020-03-23', '2020-03-24', '2020-03-25',\n",
       "       '2020-03-26'], dtype=object)"
      ]
     },
     "execution_count": 44,
     "metadata": {},
     "output_type": "execute_result"
    }
   ],
   "source": [
    "df.jour.unique()"
   ]
  },
  {
   "cell_type": "code",
   "execution_count": null,
   "metadata": {},
   "outputs": [],
   "source": []
  },
  {
   "cell_type": "code",
   "execution_count": null,
   "metadata": {},
   "outputs": [],
   "source": []
  },
  {
   "cell_type": "code",
   "execution_count": null,
   "metadata": {},
   "outputs": [],
   "source": []
  },
  {
   "cell_type": "code",
   "execution_count": null,
   "metadata": {},
   "outputs": [],
   "source": []
  }
 ],
 "metadata": {
  "kernelspec": {
   "display_name": "Python 3",
   "language": "python",
   "name": "python3"
  },
  "language_info": {
   "codemirror_mode": {
    "name": "ipython",
    "version": 3
   },
   "file_extension": ".py",
   "mimetype": "text/x-python",
   "name": "python",
   "nbconvert_exporter": "python",
   "pygments_lexer": "ipython3",
   "version": "3.7.6"
  }
 },
 "nbformat": 4,
 "nbformat_minor": 4
}
